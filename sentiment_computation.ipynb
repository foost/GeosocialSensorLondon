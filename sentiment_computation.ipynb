{
 "cells": [
  {
   "cell_type": "markdown",
   "metadata": {},
   "source": [
    "# Overview\n",
    "This notebook attempts explorative sentiment analysis of Tweets in London to determine the analyzer to be used. \n",
    "\n",
    "# Textblob\n",
    "\n",
    "Based largely this tutorial/workshop: https://dev.to/rodolfoferro/sentiment-analysis-on-trumpss-tweets-using-python-\n",
    "\n",
    "First, access some data from the database. Sampling strategy does not really matter here. "
   ]
  },
  {
   "cell_type": "code",
   "execution_count": 1,
   "metadata": {},
   "outputs": [],
   "source": [
    "import psycopg2\n",
    "\n",
    "CONN_DB = \"\"\n",
    "PATH = \"\"\n",
    "\n",
    "con=psycopg2.connect(CONN_DB)\n",
    "cur=con.cursor()\n",
    "cur.execute(\"select tweet_id, tweet_text from london_twitter LIMIT 10000\") \n",
    "query_result = cur.fetchall()\n",
    "con.close()"
   ]
  },
  {
   "cell_type": "markdown",
   "metadata": {},
   "source": [
    "Then, create the necessary pandas dataframe and do some exploration. "
   ]
  },
  {
   "cell_type": "code",
   "execution_count": 2,
   "metadata": {},
   "outputs": [
    {
     "data": {
      "text/html": [
       "<div>\n",
       "<style scoped>\n",
       "    .dataframe tbody tr th:only-of-type {\n",
       "        vertical-align: middle;\n",
       "    }\n",
       "\n",
       "    .dataframe tbody tr th {\n",
       "        vertical-align: top;\n",
       "    }\n",
       "\n",
       "    .dataframe thead th {\n",
       "        text-align: right;\n",
       "    }\n",
       "</style>\n",
       "<table border=\"1\" class=\"dataframe\">\n",
       "  <thead>\n",
       "    <tr style=\"text-align: right;\">\n",
       "      <th></th>\n",
       "      <th>tweet_text</th>\n",
       "    </tr>\n",
       "  </thead>\n",
       "  <tbody>\n",
       "    <tr>\n",
       "      <th>0</th>\n",
       "      <td>Made for superstardom. 🙋🏻‍♀️ #backingsinger #c...</td>\n",
       "    </tr>\n",
       "    <tr>\n",
       "      <th>1</th>\n",
       "      <td>Not a chance of anything being caught in the s...</td>\n",
       "    </tr>\n",
       "    <tr>\n",
       "      <th>2</th>\n",
       "      <td>It’s been a busy summer for the ladies, but we...</td>\n",
       "    </tr>\n",
       "    <tr>\n",
       "      <th>3</th>\n",
       "      <td>Belle Imaging - Bespoke and Afordable Architec...</td>\n",
       "    </tr>\n",
       "    <tr>\n",
       "      <th>4</th>\n",
       "      <td>Some Sunday colour to boost your imagination a...</td>\n",
       "    </tr>\n",
       "    <tr>\n",
       "      <th>5</th>\n",
       "      <td>#Amazing #Members #event @aphrashemza #mayfair...</td>\n",
       "    </tr>\n",
       "    <tr>\n",
       "      <th>6</th>\n",
       "      <td>Good morning! #wheresthesun https://t.co/gZdxA...</td>\n",
       "    </tr>\n",
       "    <tr>\n",
       "      <th>7</th>\n",
       "      <td>End of season social flightclubdarts was aweso...</td>\n",
       "    </tr>\n",
       "    <tr>\n",
       "      <th>8</th>\n",
       "      <td>Making music with family 🌞 I am so blessed. mo...</td>\n",
       "    </tr>\n",
       "    <tr>\n",
       "      <th>9</th>\n",
       "      <td>#MatchDay - We are @Arsenal and we are here !!...</td>\n",
       "    </tr>\n",
       "  </tbody>\n",
       "</table>\n",
       "</div>"
      ],
      "text/plain": [
       "                                          tweet_text\n",
       "0  Made for superstardom. 🙋🏻‍♀️ #backingsinger #c...\n",
       "1  Not a chance of anything being caught in the s...\n",
       "2  It’s been a busy summer for the ladies, but we...\n",
       "3  Belle Imaging - Bespoke and Afordable Architec...\n",
       "4  Some Sunday colour to boost your imagination a...\n",
       "5  #Amazing #Members #event @aphrashemza #mayfair...\n",
       "6  Good morning! #wheresthesun https://t.co/gZdxA...\n",
       "7  End of season social flightclubdarts was aweso...\n",
       "8  Making music with family 🌞 I am so blessed. mo...\n",
       "9  #MatchDay - We are @Arsenal and we are here !!..."
      ]
     },
     "metadata": {},
     "output_type": "display_data"
    }
   ],
   "source": [
    "import pandas as pd\n",
    "\n",
    "data = pd.DataFrame(data=[tweet[1] for tweet in query_result], columns=['tweet_text'])\n",
    "display(data.head(10))"
   ]
  },
  {
   "cell_type": "code",
   "execution_count": 4,
   "metadata": {},
   "outputs": [],
   "source": [
    "from textblob import TextBlob\n",
    "import re\n",
    "import numpy as np\n",
    "\n",
    "def clean_tweet(tweet):\n",
    "    '''\n",
    "    Utility function to clean the text in a tweet by removing \n",
    "    links and special characters using regex.\n",
    "    '''\n",
    "    return ' '.join(re.sub(\"(@[A-Za-z0-9]+)|([^0-9A-Za-z \\t])|(\\w+:\\/\\/\\S+)\", \" \", tweet).split())\n",
    "\n",
    "def analyze_sentiment(tweet):\n",
    "    '''\n",
    "    Utility function to classify the polarity of a tweet\n",
    "    using textblob.\n",
    "    '''\n",
    "    analysis = TextBlob(tweet)\n",
    "    return analysis.sentiment.polarity"
   ]
  },
  {
   "cell_type": "code",
   "execution_count": 5,
   "metadata": {},
   "outputs": [
    {
     "data": {
      "text/html": [
       "<div>\n",
       "<style scoped>\n",
       "    .dataframe tbody tr th:only-of-type {\n",
       "        vertical-align: middle;\n",
       "    }\n",
       "\n",
       "    .dataframe tbody tr th {\n",
       "        vertical-align: top;\n",
       "    }\n",
       "\n",
       "    .dataframe thead th {\n",
       "        text-align: right;\n",
       "    }\n",
       "</style>\n",
       "<table border=\"1\" class=\"dataframe\">\n",
       "  <thead>\n",
       "    <tr style=\"text-align: right;\">\n",
       "      <th></th>\n",
       "      <th>tweet_text</th>\n",
       "      <th>text_cleaned</th>\n",
       "      <th>polarity</th>\n",
       "    </tr>\n",
       "  </thead>\n",
       "  <tbody>\n",
       "    <tr>\n",
       "      <th>0</th>\n",
       "      <td>Made for superstardom. 🙋🏻‍♀️ #backingsinger #c...</td>\n",
       "      <td>Made for superstardom backingsinger chooselove</td>\n",
       "      <td>0.000000</td>\n",
       "    </tr>\n",
       "    <tr>\n",
       "      <th>1</th>\n",
       "      <td>Not a chance of anything being caught in the s...</td>\n",
       "      <td>Not a chance of anything being caught in the s...</td>\n",
       "      <td>0.416667</td>\n",
       "    </tr>\n",
       "    <tr>\n",
       "      <th>2</th>\n",
       "      <td>It’s been a busy summer for the ladies, but we...</td>\n",
       "      <td>It s been a busy summer for the ladies but we ...</td>\n",
       "      <td>0.068750</td>\n",
       "    </tr>\n",
       "    <tr>\n",
       "      <th>3</th>\n",
       "      <td>Belle Imaging - Bespoke and Afordable Architec...</td>\n",
       "      <td>Belle Imaging Bespoke and Afordable Architectu...</td>\n",
       "      <td>0.000000</td>\n",
       "    </tr>\n",
       "    <tr>\n",
       "      <th>4</th>\n",
       "      <td>Some Sunday colour to boost your imagination a...</td>\n",
       "      <td>Some Sunday colour to boost your imagination a...</td>\n",
       "      <td>0.000000</td>\n",
       "    </tr>\n",
       "    <tr>\n",
       "      <th>5</th>\n",
       "      <td>#Amazing #Members #event @aphrashemza #mayfair...</td>\n",
       "      <td>Amazing Members event mayfairartweekend light ...</td>\n",
       "      <td>0.500000</td>\n",
       "    </tr>\n",
       "    <tr>\n",
       "      <th>6</th>\n",
       "      <td>Good morning! #wheresthesun https://t.co/gZdxA...</td>\n",
       "      <td>Good morning wheresthesun</td>\n",
       "      <td>0.700000</td>\n",
       "    </tr>\n",
       "    <tr>\n",
       "      <th>7</th>\n",
       "      <td>End of season social flightclubdarts was aweso...</td>\n",
       "      <td>End of season social flightclubdarts was aweso...</td>\n",
       "      <td>0.344444</td>\n",
       "    </tr>\n",
       "    <tr>\n",
       "      <th>8</th>\n",
       "      <td>Making music with family 🌞 I am so blessed. mo...</td>\n",
       "      <td>Making music with family I am so blessed monke...</td>\n",
       "      <td>0.000000</td>\n",
       "    </tr>\n",
       "    <tr>\n",
       "      <th>9</th>\n",
       "      <td>#MatchDay - We are @Arsenal and we are here !!...</td>\n",
       "      <td>MatchDay We are and we are here SizenzaZonke</td>\n",
       "      <td>0.000000</td>\n",
       "    </tr>\n",
       "  </tbody>\n",
       "</table>\n",
       "</div>"
      ],
      "text/plain": [
       "                                          tweet_text  \\\n",
       "0  Made for superstardom. 🙋🏻‍♀️ #backingsinger #c...   \n",
       "1  Not a chance of anything being caught in the s...   \n",
       "2  It’s been a busy summer for the ladies, but we...   \n",
       "3  Belle Imaging - Bespoke and Afordable Architec...   \n",
       "4  Some Sunday colour to boost your imagination a...   \n",
       "5  #Amazing #Members #event @aphrashemza #mayfair...   \n",
       "6  Good morning! #wheresthesun https://t.co/gZdxA...   \n",
       "7  End of season social flightclubdarts was aweso...   \n",
       "8  Making music with family 🌞 I am so blessed. mo...   \n",
       "9  #MatchDay - We are @Arsenal and we are here !!...   \n",
       "\n",
       "                                        text_cleaned  polarity  \n",
       "0     Made for superstardom backingsinger chooselove  0.000000  \n",
       "1  Not a chance of anything being caught in the s...  0.416667  \n",
       "2  It s been a busy summer for the ladies but we ...  0.068750  \n",
       "3  Belle Imaging Bespoke and Afordable Architectu...  0.000000  \n",
       "4  Some Sunday colour to boost your imagination a...  0.000000  \n",
       "5  Amazing Members event mayfairartweekend light ...  0.500000  \n",
       "6                          Good morning wheresthesun  0.700000  \n",
       "7  End of season social flightclubdarts was aweso...  0.344444  \n",
       "8  Making music with family I am so blessed monke...  0.000000  \n",
       "9       MatchDay We are and we are here SizenzaZonke  0.000000  "
      ]
     },
     "metadata": {},
     "output_type": "display_data"
    }
   ],
   "source": [
    "data['text_cleaned'] = np.array([clean_tweet(tweet) for tweet in data['tweet_text']])\n",
    "data['polarity'] = np.array([analyze_sentiment(tweet) for tweet in data['text_cleaned'] ])\n",
    "display(data.head(10))"
   ]
  },
  {
   "cell_type": "markdown",
   "metadata": {},
   "source": [
    "Analysing the results:"
   ]
  },
  {
   "cell_type": "code",
   "execution_count": 6,
   "metadata": {},
   "outputs": [
    {
     "data": {
      "image/png": "[encoded data removed]",
      "text/plain": [
       "<Figure size 864x864 with 1 Axes>"
      ]
     },
     "metadata": {
      "needs_background": "light"
     },
     "output_type": "display_data"
    }
   ],
   "source": [
    "%matplotlib inline\n",
    "import matplotlib.pyplot as plt\n",
    "\n",
    "plt.figure(2,figsize=(12,12))\n",
    "plt.hist(data['polarity'], bins = 100)\n",
    "plt.show()"
   ]
  },
  {
   "cell_type": "code",
   "execution_count": 7,
   "metadata": {},
   "outputs": [
    {
     "name": "stdout",
     "output_type": "stream",
     "text": [
      "Percentage of positive tweets: 8.91%\n",
      "Percentage of neutral tweets: 90.32%\n",
      "Percentage of negative tweets: 0.77%\n"
     ]
    }
   ],
   "source": [
    "neu_tweets = [ tweet for index, tweet in enumerate(data['tweet_text']) if data['polarity'][index] >= -0.5 and data['polarity'][index] <= 0.5]\n",
    "pos_tweets = [ tweet for index, tweet in enumerate(data['tweet_text']) if data['polarity'][index] > 0.5]\n",
    "neg_tweets = [ tweet for index, tweet in enumerate(data['tweet_text']) if data['polarity'][index] < -0.5]\n",
    "\n",
    "print(\"Percentage of positive tweets: {}%\".format(len(pos_tweets)*100/len(data['tweet_text'])))\n",
    "print(\"Percentage of neutral tweets: {}%\".format(len(neu_tweets)*100/len(data['tweet_text'])))\n",
    "print(\"Percentage of negative tweets: {}%\".format(len(neg_tweets)*100/len(data['tweet_text'])))\n"
   ]
  },
  {
   "cell_type": "code",
   "execution_count": 8,
   "metadata": {},
   "outputs": [
    {
     "name": "stdout",
     "output_type": "stream",
     "text": [
      "BECAUSE WE FUCKING OVERPAID TYLER BOZAK https://t.co/DgZZ3g9UJO\n",
      "Badly pimped Ofo @ofo_bicycleUK Royal London hospital Stepney Way. https://t.co/1UrtH4fEBV\n",
      "Just checked my bank account. \n",
      "\n",
      "Terrible idea that one. https://t.co/QLsGOQaq3M\n",
      "This crazy https://t.co/IC4aKF3gS9\n",
      "Friday shade #shoreditchtales #poser #idiot (📸 @curt60d) @ RAF Bentwaters https://t.co/3SzRfZpJYf\n",
      "Doing some #volunteering for #coastalwestsussexmind at the #ryancup2018 #charityevent - bloody roasting! @ Worthing Rugby Club https://t.co/eTMP0bHUNI\n",
      "Photo from Southend 'stabbing' shows blood-stained pavement https://t.co/uBV1S3uaTy https://t.co/HdGg9sWB34\n",
      "Mr Sun is kinda hiding today but it’s not too bad.. #daffodils #spring #london #april @ St… https://t.co/F8u5VxLB5j\n",
      "Serious pain going on really awful feet and yuk going on https://t.co/5EZozRhztv\n",
      "Brutal #Barre Balance session with these babes ashleybverma &amp; theldnyogi although I was missing… https://t.co/K2lkQQ8zNe\n",
      "In the hustle and bustle of this gorgeously crude city...\n",
      "Outfit : zara \n",
      "Necklace : swarovski \n",
      "Boots : @tkmaxx_uk @ Shoreditch https://t.co/kPmqCuoZug\n",
      "Eagles frustrated as rain strikes to hamper T20 bid https://t.co/hfUSGkIA1n https://t.co/KPLySp46DV\n",
      "When your chicken has moved herself in with your horse !! 😍#roomies… https://t.co/MuR4r1nFOk\n",
      "Grrr #marvel #wolwerine #xmen #comics #comicbooks #madametussauds #girl #london #uk #travel… https://t.co/lbCek1Kwnz\n",
      "Be you. Be you unapologetically. Be yourself at school. Be yourself at work. &amp; be yourself around family &amp; friends. Don’t ever be afraid of being who you are. Don’t ever hide parts of… https://t.co/NW91XXe97J\n",
      "Like this is a bad thing? @ Pevensey, East Sussex https://t.co/HOM4ZaqjSZ\n",
      "Saturday BBQ 🍖 🍗 #bbq #saturday #london #polishboy #gaytime #friends #yummy #yum #foodporn #chicken #vegetables #szaszlyk #chilling #beer @ Chiswick, United… https://t.co/g1PgBMkLKp\n",
      "The terrible loss of Christopher Falzone, 29 https://t.co/2bkhlu797T https://t.co/WIzmcccdEU\n",
      "Would be a sick signing...\n",
      "What a sick idea.\n",
      "This was during one of the lengthy #var breaks. Very tedious. #whufc #oneplus7pro #mcfc #shotononeplus #lightroom @ London Stadium https://t.co/BxhidPy2vQ\n",
      "🔥 One of #sigmarpolke crazy #radioactive photos. Reminds me of 👽. In… https://t.co/9lSvwcnIpx\n",
      "Nothing is Impossible- unless you THINK it is! YES YOU CAN!!! https://t.co/bcCy5YgwDe\n",
      "Utterly depressing shitty weather #HappyFuckingSummer 😐 https://t.co/9Uq8jnIESE\n",
      "#birthday #food delivery tonight smoked paprika and oregano chicken… https://t.co/K7aeTDnClz\n",
      "#FuckingAnimal \n",
      "Luke Sandoe lukesandoe \n",
      "Ben Chow squatlikechow \n",
      "Brutal Muscle brutalmuscle \n",
      "Iron Rebel ironrebel \n",
      "RedCon1 @RedCon1Official \n",
      "Nicks Strength &amp; Power @dank_nick \n",
      "#FuckMediocrity #FuckExcuses #GoToWork… https://t.co/91ItwhG25a\n",
      "ARTIFICIAL PLEASURE\n",
      "@artpleasure #artificalpleasure #NewMusic #Gig… https://t.co/fMljpAsx8G\n",
      "Micro crazy pavers theskipgarden @MArch_CSM #summerworkshop #constructingindetail @ The Skip Garden https://t.co/EH1Zp1PXUy\n",
      "5 Chest Exercises You Need to Try If You're Sick of Push-Ups https://t.co/gqVEvztTBv https://t.co/cYkLo7Xyxy\n",
      "Tasty #chicken #ribs and #peanutbutterandjampie 🤤 @ Billy and the Chicks https://t.co/xUafp41nqV\n",
      "@KrllGojira I couldn't see what it said, but it's certainly unhappy.\n",
      "Was A Sick Night To Remember Charmzy, CIP &amp; Blackrose Shutdown the rave 🔋 #imosounds cc @imohq_ oneillsenfield @ O'Neill's Enfield https://t.co/HkIU1gPPwM\n",
      "https://t.co/cGbkkwFHAS SZA hated her debut album https://t.co/lJ92rUYPTH https://t.co/lUamhBel3X\n",
      "Frozen fountain \n",
      "\n",
      "#frozen #fountain #winter #snow #snowing #blizzard #ice #water #snowtime #cold… https://t.co/YpRGyVeaki\n",
      "A chicken place that has chicken in stock (@ Assenheims 56 in London, England) https://t.co/6ffKRlcEc7 https://t.co/MzPUeEZJWA\n",
      "The Pesto Garlic Prawns recipe is up! 🙌🏼😍\n",
      ".\n",
      "Well done to those who guessed the protein correctly based on the base ingredients I showed you yesterday!\n",
      ".\n",
      "My keen followers will know this dish is from a year ago and… https://t.co/YAqDHjCDzO\n",
      "London Knife\n",
      ".\n",
      ".\n",
      ".\n",
      ".\n",
      ".\n",
      ".\n",
      ".\n",
      ".\n",
      ".\n",
      ".\n",
      ".\n",
      ".\n",
      "scalpellondon #scalpelbuilding #cutting #londonskyline #city #londonarchitecture #london #skyscrapercity #thelensbible #instaarchitecture #instalondon… https://t.co/WMiUdKTgdU\n",
      "Bad Ass Henry courtesy of elder nipper. https://t.co/YFAC3SCqYL\n",
      "Sick choreo by emsbstrd &amp; @unionjworldarmy 🔥👌🏾    Dancers (L to R): @jasminecox_ , Me,… https://t.co/jpqVDtuSK1\n",
      "Chicken bhuna, lamb bhuna, prawn bhuna, mushroom rice, bag of chips, keema naan and 9 poppadoms #DharasBirthday @ 100 Wardour St https://t.co/gROb20nRqz\n",
      "Already started drying and healing, plus I'm a bad photographer so pics aren't doing it justice,… https://t.co/L48q6kFjIL\n",
      "She’s my angel😍 Life would be boring without you in my life💛 @1_unionj_jcat @ Wembley Stadium https://t.co/Sxgk7giOLK\n",
      "Markets are stretched across the board — and one wrong step could set off a vicious chain reaction https://t.co/NxWW03uk8Z #Business https://t.co/hw4V40Lm9t\n",
      "Received this in the post this morning (delivered by a miserable - (not our usual) postman… https://t.co/EcPk2SVsse\n",
      "It’s Int’l #MotherLanguageDay 2018 and I felt bad not speaking #Punjabi - got Dippy to help 💁🏽… https://t.co/T7j9V5vaep\n",
      "Very sad to hear about Billy Graham’s death. He preached Christ here… https://t.co/yboo8tyN15\n",
      "❤ #trees #spring #springiscoming #beastfromtheeast #freezing #cold #brrrr #dogsofinstagram… https://t.co/hEijiOFL2n\n",
      "He's being a crazy one again https://t.co/eOGs3ih2EL\n",
      "I haven’t posted in a while as my skin has just been terrible! Night everyone sleepies time 💕💕💕💕… https://t.co/GCxNYOQStc\n",
      "lylahfox \n",
      "Shot by @bnsncrg .\n",
      ".\n",
      "Using @embryolisse_uk and @uk_arbonne For base\n",
      "@delilahcosmetic Brows\n",
      "@ctilburymakeup eyes\n",
      "@lauramercier Contour \n",
      "bobbibrownuk and @fentybeauty Lips… https://t.co/PR5509DszY\n",
      "This Year's Flu Is Exceptionally Bad - Here's What to Watch Out For https://t.co/JsSZFxYW1V #Fitness https://t.co/hzMS2sG8RL\n",
      "Girls who lunch 🥘🥞🍔🥗🥩🥞\n",
      "Dress: @selectfashion \n",
      "Necklace: @JadeJagger \n",
      "Location: @thebeaumontldn \n",
      "Food: Chicken Pot Pie 🥧😁\n",
      ".\n",
      "#lunch #food #foodie #wheretogolondon #london #londonfood… https://t.co/Ydbk2gGoMC\n",
      "Car insurance: could you be in for a nasty surprise? https://t.co/VZl4EHIjHL #Business https://t.co/t8akBeuLFO\n",
      "amawlondon #masterclass tonight. \n",
      "Pre-Holiday blues already settling in? Come be inspired by some bad-ass work and re-think Creativity. \n",
      "#amaw @ AMAW London https://t.co/jUGr7Hraji\n",
      "8th in the queue I was! Bloody miracle. #Eurovision https://t.co/F6526EvS9t\n",
      "It's cold today.... but the heart is warmer.... #chillydays❄️ #blogresearch @ The Gate Pub Arkley https://t.co/DdtOrSgveL\n",
      "I'll watch them anywhere I can and as you can see from any bloody angle up the villa boys #avfc… https://t.co/dYjArbsKnY\n",
      "Goood day for KERB Food! Cheesy Chicken Strips sprinkled with Nachos! Yuuum 🤤🤤🤤 @ KERB Vault https://t.co/3VNCJyAivx\n",
      "ALEXANDRE LACAZETTE WINNER AT A NORTH LONDON DERBY. TEARS IN MY FUCKING EYES https://t.co/YkChohkshR\n",
      "#tbt London. Starbucks. Raffeel. #london #trip #travelb #cold #scarf #starbucks #starbuckslondon #🇬🇧 em London, United Kingdom https://t.co/opCpo9AG4R\n",
      "Newest addition to my crazy tree. \n",
      ".\n",
      ".\n",
      ".\n",
      ".\n",
      "#selsadultstudyabroad #london #travel #harrods #christmastree #happyholidays #expatlife @ Shoreditch https://t.co/U8zib2nCcJ\n",
      "...I was #hungry that #evening #Chicken #Chips #Sausage #BurgerSauce #FastFood #MidNightSnack… https://t.co/OtVFECd9JX\n",
      "Escaping the cold 🥶 (@ Gate 24B - @heathrowairport in Hounslow, Middlesex) https://t.co/pGuCGhKkK6 https://t.co/DQcGPR0ImJ\n",
      "Don't let a bad day make you feel like you have a bad life.. 🤍\n",
      "\n",
      "#london #regentstreet #December2019 @ Regent Street https://t.co/nfFYyqkXuJ\n",
      "Jollof with Chicken pieces to start our Christmas weekend. What are you having for dinner?\n",
      "—\n",
      "#Dinner #food #kwakuskitchen #foodie #foodphotography #foodstagram #jollofrice #tgif @ London,… https://t.co/DO1cLOw7ji\n",
      "Driven crazy by Christmas music https://t.co/kZWj3fyGUo https://t.co/JUWRPD48oj\n",
      "Anger is a gift - Drinking a Gift 1 by @boundarybrewing at @hamletbreweryuk  — https://t.co/tWsV4GQqjr #photo\n",
      "Not good to get these nasty plastic cups to drink in... (at @StarbucksUk) https://t.co/zqcqQrkmZD https://t.co/Ac8udJues7\n",
      "‘Crazy’ moped thief storms Tufnell Park cafe with hammer and steals laptop https://t.co/MnVDrhaGAa #London https://t.co/OZllgqTYUU\n",
      "Camera Crazy \n",
      ".\n",
      ".\n",
      ".\n",
      ".\n",
      ".\n",
      "#VictoriaAndAlbertMuseum #VandAPhotography #DavidKohnArchitects #Albertopolis #PhotographyCentre #ModernArchitecture #Museum #SouthKensington #ExhibitionRoad… https://t.co/vppw74JzuH\n",
      "#Egaylity | UK — No-one is talking about Egypt's shocking homophobic purge https://t.co/OLbwFJ5YxZ\n",
      "My Tuesday morning ❄️⛅️☕️ #coldoutside #tea #selfemployed \n",
      ".\n",
      ".\n",
      ".\n",
      ".\n",
      "#gardener #selfemployed #cold… https://t.co/PGHyDY5stg\n",
      "When it comes to Christmas decorations I’m afraid that just like this image - quite minimalist.… https://t.co/6DYkO3Sjpw\n",
      "H I  O C T O B E R 😜\n",
      ".\n",
      ".\n",
      ".\n",
      "#Sunday #LazySunday #Bun #Wind #Cold  #Autumn #London #Colombia @… https://t.co/qWcTl9LUu4\n",
      "The delicacy involved in #Mixology @Dirtymartiniuk @TommyColeDM @ Dirty Martini Hanover Square https://t.co/ysaZ0xjQyM\n",
      "Travel restrictions mean reporting on the devastating situation in Italy from London - but  I’m thinking of our producers on the ground phoebe.natanson and @clarkbentson ... living in lockdown and surrounded by fear… https://t.co/Ho5GTimrzJ\n",
      "Roast Preserve Lemon 🍋and Garden Herb Chicken with Smoked Streaky Bacon 🥓😋🤤. #foodgasm #foodie #foodblog #foodblogger #freerange #chicken #foodporn #food #eeeeeats #foodstagram #instafood… https://t.co/Zdao70r9EP\n"
     ]
    }
   ],
   "source": [
    "for tweet in neg_tweets:\n",
    "    print(tweet)"
   ]
  },
  {
   "cell_type": "markdown",
   "metadata": {},
   "source": [
    "Conclusions from the exploration: \n",
    "- works fast enough for larger data volumes\n",
    "- Tweets seem to have positive bias (in line with other research)\n",
    "- only more extreme polarity values show sufficient accuracy \n",
    "- most Tweets (around 50%) get classified as completely neutral (polarity = 0)"
   ]
  },
  {
   "cell_type": "markdown",
   "metadata": {},
   "source": [
    "# TF-IDF and Logistic Regression with sentiment140\n",
    "The notebooks on twitter sentiment analysis from https://github.com/tthustla/ show that, despite all the efforts, TF-IDF and logistic regression outperform most of the other tested combinations, which included Word2Vec, Doc2Vec, and neural networks, and mostly scored between 72% and 78% accuracy. \n",
    "\n",
    "Another notebook (https://www.bonaccorso.eu/2017/08/07/twitter-sentiment-analysis-with-gensim-word2vec-and-keras-convolutional-networks/) confirms the findings."
   ]
  },
  {
   "cell_type": "markdown",
   "metadata": {},
   "source": [
    "This analysis uses the Sentiment140 cleaned Tweets. For more info on how this was generated, see https://github.com/tthustla/twitter_sentiment_analysis_part2\n",
    "\n",
    "The code below saves a sample for manual validation, and writes the computed values to a field sentpos_tfidflr. For larger Tweet counts, this will take a while and it is recommended to run the code not in a Jupyter notebook but a standalone script. "
   ]
  },
  {
   "cell_type": "code",
   "execution_count": null,
   "metadata": {},
   "outputs": [],
   "source": [
    "import pickle\n",
    "import pandas as pd\n",
    "import numpy as np\n",
    "import psycopg2\n",
    "from sklearn.feature_extraction.text import TfidfVectorizer\n",
    "from sklearn.linear_model import LogisticRegression\n",
    "from sklearn.pipeline import Pipeline\n",
    "\n",
    "vectorizer = TfidfVectorizer()\n",
    "n_features = 100000\n",
    "ngram_range= (1,3)\n",
    "stop_words = None\n",
    "classifier = LogisticRegression()\n",
    "vectorizer.set_params(stop_words=stop_words, max_features=n_features, ngram_range=ngram_range)\n",
    "classifier.set_params(solver='liblinear') #default was changed to lbfgs\n",
    "pipeline = Pipeline([('vectorizer', vectorizer), ('classifier', classifier)])\n",
    "\n",
    "csv = 'clean_tweet.csv'\n",
    "my_df = pd.read_csv(csv,index_col=0)\n",
    "my_df.dropna(inplace=True)\n",
    "my_df.reset_index(drop=True,inplace=True)\n",
    "x = my_df.text \n",
    "y = my_df.target # the target label (sentiment)\n",
    "\n",
    "conn=psycopg2.connect(\"\")\n",
    "cur = conn.cursor()\n",
    "cur.execute(\"select tweet_text from london_twitter where tweet_lang='en' and bot is not True\")\n",
    "tw_texts_en = cur.fetchall()\n",
    "print(len(tw_texts_en))\n",
    "\n",
    "sentiment_fit = pipeline.fit(x,y)\n",
    "\n",
    "london_x_en = pd.Series((t[0] for t in tw_texts_en))\n",
    "display(london_x_en.head())\n",
    "\n",
    "london_y_pred_en = sentiment_fit.predict(london_x_en)\n",
    "london_y_proba_en = sentiment_fit.predict_proba(london_x_en)\n",
    "london_y_full_combo_en = []\n",
    "sentiment_count_en = [0,0,0]\n",
    "for i in range(len(london_y_pred_en)):\n",
    "    if london_y_proba_en[i][0] > 0.75:\n",
    "        sentiment = 0\n",
    "        sentiment_count_en[0]+=1\n",
    "    elif london_y_proba_en[i][1] > 0.90:\n",
    "        sentiment = 2\n",
    "        sentiment_count_en[2]+=1\n",
    "    else: \n",
    "        sentiment = 1\n",
    "        sentiment_count_en[1]+=1\n",
    "    london_y_full_combo_en.append([london_x_en[i], london_y_pred_en[i], london_y_proba_en[i][0], london_y_proba_en[i][1], sentiment])\n",
    "    data = (london_y_proba_en[i][1], tw_texts_en[i][0])\n",
    "    cur.execute(\"\"\"update london_twitter set sentpos_tfidflr=(%s) where tweet_id=(%s);\"\"\", data)\n",
    "    conn.commit()\n",
    "\n",
    "display(london_y_full_combo_en[1])\n",
    "display(sentiment_count_en)\n",
    "\n",
    "import csv\n",
    "from random import sample\n",
    "\n",
    "london_negative_en = sample([tweet for tweet in london_y_full_combo_en if tweet[4] == 0],500)\n",
    "london_neutral_en = sample([tweet for tweet in london_y_full_combo_en if tweet[4] == 1],500)\n",
    "london_positive_en = sample([tweet for tweet in london_y_full_combo_en if tweet[4] == 2],500)\n",
    "\n",
    "with open('sent140_TF-IDF_LR_london_v3_en_nobots_sample.csv', 'w', encoding='utf-8', newline = '') as myfile:\n",
    "    wr = csv.writer(myfile, quoting=csv.QUOTE_ALL)\n",
    "    london_sample = london_negative_en + london_neutral_en + london_positive_en\n",
    "    for row in london_sample:\n",
    "        row[0] = row[0].replace(\"\\n\", \"\")\n",
    "        row[0] = row[0].replace(\"\\r\", \"\")\n",
    "        wr.writerow(row)\n",
    "        \n",
    "conn.close()"
   ]
  },
  {
   "cell_type": "markdown",
   "metadata": {},
   "source": [
    "# VADER"
   ]
  },
  {
   "cell_type": "code",
   "execution_count": 1,
   "metadata": {},
   "outputs": [
    {
     "name": "stdout",
     "output_type": "stream",
     "text": [
      "4113234\n"
     ]
    }
   ],
   "source": [
    "import numpy as np\n",
    "import psycopg2\n",
    "from vaderSentiment.vaderSentiment import SentimentIntensityAnalyzer\n",
    "\n",
    "conn=psycopg2.connect(\"\")\n",
    "cur = conn.cursor()\n",
    "cur.execute(\"select tweet_id, tweet_text from london_twitter where tweet_lang='en' and bot is not True\")\n",
    "tw_texts_en = cur.fetchall()\n",
    "conn.close()\n",
    "print(len(tw_texts_en))\n",
    "\n",
    "analyzer = SentimentIntensityAnalyzer()\n",
    "sentiment_count_en = [0,0,0]\n",
    "london_full_combo_en = []"
   ]
  },
  {
   "cell_type": "code",
   "execution_count": 38,
   "metadata": {},
   "outputs": [
    {
     "data": {
      "text/plain": [
       "['The outcome is known before it happens https://t.co/DltkJYvZme', 0.0, 1]"
      ]
     },
     "metadata": {},
     "output_type": "display_data"
    },
    {
     "data": {
      "text/plain": [
       "[331293, 1224220, 2450664]"
      ]
     },
     "metadata": {},
     "output_type": "display_data"
    },
    {
     "name": "stdout",
     "output_type": "stream",
     "text": [
      "Wall time: 23min 59s\n"
     ]
    }
   ],
   "source": [
    "%%time\n",
    "for t in tw_texts_en:\n",
    "    vs = analyzer.polarity_scores(t[0])\n",
    "    if vs['compound'] <= -0.05:\n",
    "        sentiment = 0\n",
    "        sentiment_count_en[0] += 1\n",
    "    elif vs['compound'] >= 0.05:\n",
    "        sentiment = 2\n",
    "        sentiment_count_en[2]+=1\n",
    "    else: \n",
    "        sentiment = 1\n",
    "        sentiment_count_en[1] += 1\n",
    "    london_full_combo_en.append([t[0], vs['compound'], sentiment])\n",
    "display(london_full_combo_en[1])\n",
    "display(sentiment_count_en)"
   ]
  },
  {
   "cell_type": "code",
   "execution_count": 39,
   "metadata": {},
   "outputs": [],
   "source": [
    "import csv\n",
    "from random import sample\n",
    "\n",
    "london_negative_en = sample([tweet for tweet in london_full_combo_en if tweet[2] == 0],500)\n",
    "london_neutral_en = sample([tweet for tweet in london_full_combo_en if tweet[2] == 1],500)\n",
    "london_positive_en = sample([tweet for tweet in london_full_combo_en if tweet[2] == 2],500)\n",
    "\n",
    "with open('VADER_london_en_nobots_sample.csv', 'w', encoding='utf-8', newline = '') as myfile:\n",
    "    wr = csv.writer(myfile, quoting=csv.QUOTE_ALL)\n",
    "    london_sample = london_negative_en + london_neutral_en + london_positive_en\n",
    "    for row in london_sample:\n",
    "        row[0] = row[0].replace(\"\\n\", \"\")\n",
    "        row[0] = row[0].replace(\"\\r\", \"\")\n",
    "        wr.writerow(row)"
   ]
  },
  {
   "cell_type": "markdown",
   "metadata": {},
   "source": [
    "The evaluation revealed that the handling of emojis is not optimal. In particular, a common heart emoji is not recognized (see last example sentence):"
   ]
  },
  {
   "cell_type": "code",
   "execution_count": 56,
   "metadata": {},
   "outputs": [
    {
     "name": "stdout",
     "output_type": "stream",
     "text": [
      "VADER is smart, handsome, and funny.----------------------------- {'neg': 0.0, 'neu': 0.254, 'pos': 0.746, 'compound': 0.8316}\n",
      "VADER is smart, handsome, and funny!----------------------------- {'neg': 0.0, 'neu': 0.248, 'pos': 0.752, 'compound': 0.8439}\n",
      "VADER is very smart, handsome, and funny.------------------------ {'neg': 0.0, 'neu': 0.299, 'pos': 0.701, 'compound': 0.8545}\n",
      "VADER is VERY SMART, handsome, and FUNNY.------------------------ {'neg': 0.0, 'neu': 0.246, 'pos': 0.754, 'compound': 0.9227}\n",
      "VADER is VERY SMART, handsome, and FUNNY!!!---------------------- {'neg': 0.0, 'neu': 0.233, 'pos': 0.767, 'compound': 0.9342}\n",
      "VADER is VERY SMART, uber handsome, and FRIGGIN FUNNY!!!--------- {'neg': 0.0, 'neu': 0.294, 'pos': 0.706, 'compound': 0.9469}\n",
      "VADER is not smart, handsome, nor funny.------------------------- {'neg': 0.646, 'neu': 0.354, 'pos': 0.0, 'compound': -0.7424}\n",
      "The book was good.----------------------------------------------- {'neg': 0.0, 'neu': 0.508, 'pos': 0.492, 'compound': 0.4404}\n",
      "At least it isn't a horrible book.------------------------------- {'neg': 0.0, 'neu': 0.678, 'pos': 0.322, 'compound': 0.431}\n",
      "The book was only kind of good.---------------------------------- {'neg': 0.0, 'neu': 0.697, 'pos': 0.303, 'compound': 0.3832}\n",
      "The plot was good, but the characters are uncompelling and the dialog is not great. {'neg': 0.327, 'neu': 0.579, 'pos': 0.094, 'compound': -0.7042}\n",
      "Today SUX!------------------------------------------------------- {'neg': 0.779, 'neu': 0.221, 'pos': 0.0, 'compound': -0.5461}\n",
      "Today only kinda sux! But I'll get by, lol----------------------- {'neg': 0.127, 'neu': 0.556, 'pos': 0.317, 'compound': 0.5249}\n",
      "Make sure you :) or :D today!------------------------------------ {'neg': 0.0, 'neu': 0.294, 'pos': 0.706, 'compound': 0.8633}\n",
      "Catch utf-8 emoji such as such as 💘 and 💋 and 😁------------------ {'neg': 0.0, 'neu': 0.615, 'pos': 0.385, 'compound': 0.875}\n",
      "Not bad at all--------------------------------------------------- {'neg': 0.0, 'neu': 0.513, 'pos': 0.487, 'compound': 0.431}\n",
      "Me and Fay are 4 years old today ❤️ (ft Grumio)… https://t.co/PZf0ntva8W {'neg': 0.0, 'neu': 1.0, 'pos': 0.0, 'compound': 0.0}\n"
     ]
    }
   ],
   "source": [
    "sentences = [\"VADER is smart, handsome, and funny.\",  # positive sentence example\n",
    "             \"VADER is smart, handsome, and funny!\",  # punctuation emphasis handled correctly (sentiment intensity adjusted)\n",
    "             \"VADER is very smart, handsome, and funny.\", # booster words handled correctly (sentiment intensity adjusted)\n",
    "             \"VADER is VERY SMART, handsome, and FUNNY.\",  # emphasis for ALLCAPS handled\n",
    "             \"VADER is VERY SMART, handsome, and FUNNY!!!\", # combination of signals - VADER appropriately adjusts intensity\n",
    "             \"VADER is VERY SMART, uber handsome, and FRIGGIN FUNNY!!!\", # booster words & punctuation make this close to ceiling for score\n",
    "             \"VADER is not smart, handsome, nor funny.\",  # negation sentence example\n",
    "             \"The book was good.\",  # positive sentence\n",
    "             \"At least it isn't a horrible book.\",  # negated negative sentence with contraction\n",
    "             \"The book was only kind of good.\", # qualified positive sentence is handled correctly (intensity adjusted)\n",
    "             \"The plot was good, but the characters are uncompelling and the dialog is not great.\", # mixed negation sentence\n",
    "             \"Today SUX!\",  # negative slang with capitalization emphasis\n",
    "             \"Today only kinda sux! But I'll get by, lol\", # mixed sentiment example with slang and constrastive conjunction \"but\"\n",
    "             \"Make sure you :) or :D today!\",  # emoticons handled\n",
    "             \"Catch utf-8 emoji such as such as 💘 and 💋 and 😁\",  # emojis handled\n",
    "             \"Not bad at all\",  # Capitalized negation\n",
    "             \"Me and Fay are 4 years old today ❤️ (ft Grumio)… https://t.co/PZf0ntva8W\"\n",
    "             ]\n",
    "\n",
    "analyzer = SentimentIntensityAnalyzer()\n",
    "for sentence in sentences:\n",
    "    vs = analyzer.polarity_scores(sentence)\n",
    "    print(\"{:-<65} {}\".format(sentence, str(vs)))"
   ]
  },
  {
   "cell_type": "markdown",
   "metadata": {},
   "source": [
    "The problem is in the polarity_scores function where the emojis get converted into their textual description (which is then used to check against the lexicon in the sentiment_valence function:\n",
    "\n",
    "```\n",
    "for chr in text:\n",
    "    if chr in self.emojis:\n",
    "        # get the textual description\n",
    "        description = self.emojis[chr]\n",
    "        if not prev_space:\n",
    "            text_no_emoji += ' '\n",
    "            text_no_emoji += description\n",
    "            prev_space = False\n",
    "        else:\n",
    "            text_no_emoji += chr\n",
    "            prev_space = chr == ' '\n",
    "text = text_no_emoji.strip()\n",
    "```\n",
    "\n",
    "The problem is that any code point after the first gets added to the last word of the description. If that last word is the one to be found in the lexicon, the sentiment_valence function will miss it. So, in case of ☹️ (\"frowning face\") the word found in the lexicon is \"frowning\", and in case of ❤️ (\"red heart\") it's \"heart\". Testing showed that the former works (so the problem does not occur with all emojis with multiple code points), the latter does not.\n",
    "The problem only occurs when the lexicon word is the last word of the emoji description, because the loop only looks at the first code point to find the description, but then adds the second code point to the last word of that description. This changes the last character of that unigram, making the sentiment_valence look-up miss it. The change is barely visible in control print outs (e.g. the letter \"t\" becomes a tiny bit smaller).\n",
    "\n",
    "How to fix it? Dealing properly with emojis with multiple code points would need some serious changes in the loop. We have chosen for a quick and dirty fix: Since the major culprit for sentiment-relevant emojis is \"FE0F\", we changed the ```else:``` statement into ```elif ord(chr) != 65039:``` to completely ignore it. Seems to work.\n",
    "\n",
    "The VADER sentiment analysis was conducted using the script vaderSentiment_mod.py"
   ]
  }
 ],
 "metadata": {
  "kernelspec": {
   "display_name": "Python 3",
   "language": "python",
   "name": "python3"
  },
  "language_info": {
   "codemirror_mode": {
    "name": "ipython",
    "version": 3
   },
   "file_extension": ".py",
   "mimetype": "text/x-python",
   "name": "python",
   "nbconvert_exporter": "python",
   "pygments_lexer": "ipython3",
   "version": "3.8.8"
  },
  "toc": {
   "base_numbering": 1,
   "nav_menu": {},
   "number_sections": true,
   "sideBar": true,
   "skip_h1_title": false,
   "title_cell": "Table of Contents",
   "title_sidebar": "Contents",
   "toc_cell": false,
   "toc_position": {},
   "toc_section_display": true,
   "toc_window_display": true
  },
  "varInspector": {
   "cols": {
    "lenName": 16,
    "lenType": 16,
    "lenVar": 40
   },
   "kernels_config": {
    "python": {
     "delete_cmd_postfix": "",
     "delete_cmd_prefix": "del ",
     "library": "var_list.py",
     "varRefreshCmd": "print(var_dic_list())"
    },
    "r": {
     "delete_cmd_postfix": ") ",
     "delete_cmd_prefix": "rm(",
     "library": "var_list.r",
     "varRefreshCmd": "cat(var_dic_list()) "
    }
   },
   "types_to_exclude": [
    "module",
    "function",
    "builtin_function_or_method",
    "instance",
    "_Feature"
   ],
   "window_display": false
  }
 },
 "nbformat": 4,
 "nbformat_minor": 4
}
